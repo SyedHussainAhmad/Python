{
 "cells": [
  {
   "cell_type": "markdown",
   "metadata": {},
   "source": [
    "# Pandas\n"
   ]
  },
  {
   "cell_type": "code",
   "execution_count": 3,
   "metadata": {},
   "outputs": [],
   "source": [
    "import pandas as pd"
   ]
  },
  {
   "cell_type": "markdown",
   "metadata": {},
   "source": [
    "## Data Structures in Pandas.\n"
   ]
  },
  {
   "cell_type": "markdown",
   "metadata": {},
   "source": [
    "### 1- Series Data Structure (Single Dimensional Data)\n"
   ]
  },
  {
   "cell_type": "code",
   "execution_count": 4,
   "metadata": {},
   "outputs": [
    {
     "name": "stdout",
     "output_type": "stream",
     "text": [
      "0    91\n",
      "1    29\n",
      "2    39\n",
      "3    59\n",
      "4    90\n",
      "5    89\n",
      "dtype: int64\n",
      "<class 'pandas.core.series.Series'>\n",
      "89\n"
     ]
    }
   ],
   "source": [
    "# --> Can be any data in this case list. You can also pass dictionary,tuple or set.\n",
    "x = [91, 29, 39, 59, 90, 89]\n",
    "\n",
    "# Converting Data into Pandas Series data structure.\n",
    "s = pd.Series(x)\n",
    "\n",
    "# You can pass list,dictionary etc or you can pass single number too like 12 or \"Hussain\" and it will convert it into Pandas series:\n",
    "# s = pd.Series(\"Hussain\")\n",
    "print(s)\n",
    "\n",
    "# Printing tyoe of the variable.\n",
    "print(type(s))\n",
    "\n",
    "# Through index number you can easily access the data at that particular adreess by:\n",
    "print(s[5])\n"
   ]
  },
  {
   "cell_type": "markdown",
   "metadata": {},
   "source": [
    "#### Change index of data.\n"
   ]
  },
  {
   "cell_type": "code",
   "execution_count": 5,
   "metadata": {},
   "outputs": [
    {
     "name": "stdout",
     "output_type": "stream",
     "text": [
      "a    1\n",
      "b    2\n",
      "c    3\n",
      "d    4\n",
      "dtype: int64\n"
     ]
    }
   ],
   "source": [
    "y = [1, 2, 3, 4]\n",
    "s1 = pd.Series(y, index=[\"a\", \"b\", \"c\", \"d\"])\n",
    "print(s1)\n"
   ]
  },
  {
   "cell_type": "markdown",
   "metadata": {},
   "source": [
    "#### Change DataType ie int or float and name a data.\n"
   ]
  },
  {
   "cell_type": "code",
   "execution_count": 6,
   "metadata": {},
   "outputs": [
    {
     "name": "stdout",
     "output_type": "stream",
     "text": [
      "0    1.0\n",
      "1    2.0\n",
      "2    3.0\n",
      "3    4.0\n",
      "Name: Python, dtype: float64\n"
     ]
    }
   ],
   "source": [
    "z = [1, 2, 3, 4]\n",
    "s2 = pd.Series(z, dtype=float, name=\"Python\")\n",
    "print(s2)\n"
   ]
  },
  {
   "cell_type": "markdown",
   "metadata": {},
   "source": [
    "### 2- DataFrame Data Structure (Two Dimensional Data)\n"
   ]
  },
  {
   "cell_type": "markdown",
   "metadata": {},
   "source": [
    "#### Example 1:\n"
   ]
  },
  {
   "cell_type": "code",
   "execution_count": 7,
   "metadata": {},
   "outputs": [
    {
     "name": "stdout",
     "output_type": "stream",
     "text": [
      "     Name  Rank  Popularity\n",
      "0  Python     1           1\n",
      "1       C     4           2\n",
      "2     C++     3           3\n",
      "3    Java     2           4\n"
     ]
    }
   ],
   "source": [
    "x = {\n",
    "    \"Name\": [\"Python\", \"C\", \"C++\", \"Java\"],\n",
    "    \"Rank\": [1, 4, 3, 2],\n",
    "    \"Popularity\": [1, 2, 3, 4]\n",
    "}  # --> While passing dictionary the data values must be equal i-e In this case name,rank and popularity has values of list so list must contain equal number of entities.\n",
    "\n",
    "d = pd.DataFrame(x)\n",
    "print(d)\n",
    "\n",
    "# To Check Type:\n",
    "# print(type(d))\n"
   ]
  },
  {
   "cell_type": "code",
   "execution_count": 8,
   "metadata": {},
   "outputs": [
    {
     "name": "stdout",
     "output_type": "stream",
     "text": [
      "     Name\n",
      "0  Python\n",
      "1       C\n",
      "2     C++\n",
      "3    Java\n"
     ]
    }
   ],
   "source": [
    "# To Access particular colummn.\n",
    "# d = pd.DataFrame(x, columns=[\"Column Name\"])\n",
    "x = {\n",
    "    \"Name\": [\"Python\", \"C\", \"C++\", \"Java\"],\n",
    "    \"Rank\": [1, 4, 3, 2],\n",
    "    \"Popularity\": [1, 2, 3, 4]\n",
    "}\n",
    "d = pd.DataFrame(x, columns=[\"Name\"])\n",
    "print(d)\n"
   ]
  },
  {
   "cell_type": "code",
   "execution_count": 9,
   "metadata": {},
   "outputs": [
    {
     "name": "stdout",
     "output_type": "stream",
     "text": [
      "C++\n"
     ]
    }
   ],
   "source": [
    "# You can also retrieve data at partcular location with respect to column and row.\n",
    "x = {\n",
    "    \"Name\": [\"Python\", \"C\", \"C++\", \"Java\"],\n",
    "    \"Rank\": [1, 4, 3, 2],\n",
    "    \"Popularity\": [1, 2, 3, 4]\n",
    "}\n",
    "d = pd.DataFrame(x)\n",
    "# print (d[column_name][row_name]);\n",
    "print(d[\"Name\"][2])\n"
   ]
  },
  {
   "cell_type": "markdown",
   "metadata": {},
   "source": [
    "#### Example 2:\n"
   ]
  },
  {
   "cell_type": "code",
   "execution_count": 10,
   "metadata": {},
   "outputs": [
    {
     "name": "stdout",
     "output_type": "stream",
     "text": [
      "   0  1  2   3   4\n",
      "0  1  2  4   5   6\n",
      "1  7  8  9  10  33\n"
     ]
    }
   ],
   "source": [
    "lists = [[1, 2, 4, 5, 6], [7, 8, 9, 10, 33]]\n",
    "d1 = pd.DataFrame(lists)\n",
    "print(d1)\n"
   ]
  },
  {
   "cell_type": "markdown",
   "metadata": {},
   "source": [
    "### Create DataFrame from multiple series.\n"
   ]
  },
  {
   "cell_type": "code",
   "execution_count": 11,
   "metadata": {},
   "outputs": [
    {
     "name": "stdout",
     "output_type": "stream",
     "text": [
      "   s1  s2  s3\n",
      "0   1   6  11\n",
      "1   2   7  12\n",
      "2   3   8  13\n",
      "3   4   9  14\n",
      "4   5  10  15\n"
     ]
    }
   ],
   "source": [
    "sr = {\n",
    "    \"s1\": pd.Series([1, 2, 3, 4, 5]),\n",
    "    \"s2\": pd.Series([6, 7, 8, 9, 10]),\n",
    "    \"s3\": pd.Series([11, 12, 13, 14, 15])\n",
    "}\n",
    "d2 = pd.DataFrame(sr)\n",
    "print(d2)\n"
   ]
  },
  {
   "cell_type": "markdown",
   "metadata": {},
   "source": [
    "## Arithmetic Operations in Pandas.\n"
   ]
  },
  {
   "cell_type": "markdown",
   "metadata": {},
   "source": [
    "### Addition, Substraction, Multiplication, Division"
   ]
  },
  {
   "cell_type": "code",
   "execution_count": 12,
   "metadata": {},
   "outputs": [
    {
     "name": "stdout",
     "output_type": "stream",
     "text": [
      "    A   B   C\n",
      "0   1  17  18\n",
      "1   2  25  27\n",
      "2  34   4  38\n",
      "3  56   5  61\n",
      "4   7  73  80\n"
     ]
    }
   ],
   "source": [
    "dict = {\n",
    "    'A': [1, 2, 34, 56, 7],\n",
    "    'B': [17, 25, 4, 5, 73]\n",
    "}\n",
    "var = pd.DataFrame(dict)\n",
    "var[\"C\"] = var[\"A\"]+var[\"B\"] # --> Same for Substraction, Multiplication & Division.\n",
    "print(var)"
   ]
  },
  {
   "cell_type": "markdown",
   "metadata": {},
   "source": [
    "### Logical Operations (<,>,==,<=,>=)."
   ]
  },
  {
   "cell_type": "code",
   "execution_count": 13,
   "metadata": {},
   "outputs": [
    {
     "name": "stdout",
     "output_type": "stream",
     "text": [
      "    A   B    C  <= in A\n",
      "0   1  17   17     True\n",
      "1   2  25  251     True\n",
      "2  34   4   42    False\n",
      "3  56   5   53    False\n",
      "4   7  73  732     True\n"
     ]
    }
   ],
   "source": [
    "dict_2 = {\n",
    "    'A': [1, 2, 34, 56, 7],\n",
    "    'B': [17, 25, 4, 5, 73],\n",
    "    'C': [17, 251, 42, 53, 732],\n",
    "}\n",
    "var1 = pd.DataFrame(dict_2)\n",
    "var1[\"<= in A\"] = var1[\"A\"] < 30 # --> True means condition is satisfied and vice versa.\n",
    "print (var1)"
   ]
  },
  {
   "cell_type": "markdown",
   "metadata": {},
   "source": [
    "## Insert and Delete Data."
   ]
  },
  {
   "cell_type": "markdown",
   "metadata": {},
   "source": [
    "### Insert"
   ]
  },
  {
   "cell_type": "code",
   "execution_count": 14,
   "metadata": {},
   "outputs": [
    {
     "name": "stdout",
     "output_type": "stream",
     "text": [
      "    A  <= 20 in A   B  <= 30 in B    C\n",
      "0   1        True  17        True   17\n",
      "1   2        True  25        True  251\n",
      "2  34       False   4        True   42\n",
      "3  56       False   5        True   53\n",
      "4   7        True  73       False  732\n"
     ]
    }
   ],
   "source": [
    "dict_2 = {\n",
    "    'A': [1, 2, 34, 56, 7],\n",
    "    'B': [17, 25, 4, 5, 73],\n",
    "    'C': [17, 251, 42, 53, 732],\n",
    "}\n",
    "var1 = pd.DataFrame(dict_2)\n",
    "# variable_name.insert(index_number,\"Column_name\", data,operation or calculation.) --> (data,operation or calculation) must be of same length as other columns.\n",
    "var1.insert(1,\"<= 20 in A\", var1[\"A\"]< 20) \n",
    "var1.insert(3,\"<= 30 in B\", var1[\"B\"]< 30) \n",
    "print (var1)"
   ]
  },
  {
   "cell_type": "markdown",
   "metadata": {},
   "source": [
    "### Delete"
   ]
  },
  {
   "cell_type": "code",
   "execution_count": 15,
   "metadata": {},
   "outputs": [
    {
     "name": "stdout",
     "output_type": "stream",
     "text": [
      "     C\n",
      "0   17\n",
      "1  251\n",
      "2   42\n",
      "3   53\n",
      "4  732\n"
     ]
    }
   ],
   "source": [
    "dict_2 = {\n",
    "    'A': [1, 2, 34, 56, 7],\n",
    "    'B': [17, 25, 4, 5, 73],\n",
    "    'C': [17, 251, 42, 53, 732],\n",
    "}\n",
    "var1 = pd.DataFrame(dict_2)\n",
    "# del variable_name[\"Column_name\"] Or\n",
    "# variable_name.pop(\"Column_name\")\n",
    "del var1[\"A\"]\n",
    "var1.pop(\"B\")\n",
    "print (var1)"
   ]
  },
  {
   "cell_type": "markdown",
   "metadata": {},
   "source": [
    "## Write CSV File."
   ]
  },
  {
   "cell_type": "code",
   "execution_count": 16,
   "metadata": {},
   "outputs": [],
   "source": [
    "dict = {\n",
    "    \"Name\":[\"Python\",\"Java\",\"C\",\"C++\",\"JaavScript\"],\n",
    "    \"Rank\":[1,2,3,4,5]\n",
    "}\n",
    "d = pd.DataFrame(dict)\n",
    "\n",
    "# d.to_csv(\"Name of the file\", index = False, header= [1,2,3,4,5]) --> Index = false means that index column will not be added in csv file as it is automatically added in excel.\n",
    "# Header and index are optional\n",
    "d.to_csv(\"New_File.csv\",index=False)"
   ]
  },
  {
   "cell_type": "markdown",
   "metadata": {},
   "source": [
    "## Read CSV File."
   ]
  },
  {
   "cell_type": "code",
   "execution_count": 17,
   "metadata": {},
   "outputs": [
    {
     "ename": "FileNotFoundError",
     "evalue": "[Errno 2] No such file or directory: 'F:\\\\Programming\\\\Python\\\\Artificial Intelligence\\\\Libraries\\\\Pandas\\\\Practice\\\\myFile0.csv'",
     "output_type": "error",
     "traceback": [
      "\u001b[1;31m---------------------------------------------------------------------------\u001b[0m",
      "\u001b[1;31mFileNotFoundError\u001b[0m                         Traceback (most recent call last)",
      "Cell \u001b[1;32mIn[17], line 2\u001b[0m\n\u001b[0;32m      1\u001b[0m \u001b[39m# variable_name = pd.read_csv(\"path\")\u001b[39;00m\n\u001b[1;32m----> 2\u001b[0m csv_1 \u001b[39m=\u001b[39m pd\u001b[39m.\u001b[39;49mread_csv(\u001b[39m\"\u001b[39;49m\u001b[39mF:\u001b[39;49m\u001b[39m\\\\\u001b[39;49;00m\u001b[39mProgramming\u001b[39;49m\u001b[39m\\\\\u001b[39;49;00m\u001b[39mPython\u001b[39;49m\u001b[39m\\\\\u001b[39;49;00m\u001b[39mArtificial Intelligence\u001b[39;49m\u001b[39m\\\\\u001b[39;49;00m\u001b[39mLibraries\u001b[39;49m\u001b[39m\\\\\u001b[39;49;00m\u001b[39mPandas\u001b[39;49m\u001b[39m\\\\\u001b[39;49;00m\u001b[39mPractice\u001b[39;49m\u001b[39m\\\\\u001b[39;49;00m\u001b[39mmyFile0.csv\u001b[39;49m\u001b[39m\"\u001b[39;49m)\n\u001b[0;32m      3\u001b[0m csv_1\n",
      "File \u001b[1;32mc:\\Users\\Hussain\\AppData\\Local\\Programs\\Python\\Python311\\Lib\\site-packages\\pandas\\util\\_decorators.py:211\u001b[0m, in \u001b[0;36mdeprecate_kwarg.<locals>._deprecate_kwarg.<locals>.wrapper\u001b[1;34m(*args, **kwargs)\u001b[0m\n\u001b[0;32m    209\u001b[0m     \u001b[39melse\u001b[39;00m:\n\u001b[0;32m    210\u001b[0m         kwargs[new_arg_name] \u001b[39m=\u001b[39m new_arg_value\n\u001b[1;32m--> 211\u001b[0m \u001b[39mreturn\u001b[39;00m func(\u001b[39m*\u001b[39;49margs, \u001b[39m*\u001b[39;49m\u001b[39m*\u001b[39;49mkwargs)\n",
      "File \u001b[1;32mc:\\Users\\Hussain\\AppData\\Local\\Programs\\Python\\Python311\\Lib\\site-packages\\pandas\\util\\_decorators.py:331\u001b[0m, in \u001b[0;36mdeprecate_nonkeyword_arguments.<locals>.decorate.<locals>.wrapper\u001b[1;34m(*args, **kwargs)\u001b[0m\n\u001b[0;32m    325\u001b[0m \u001b[39mif\u001b[39;00m \u001b[39mlen\u001b[39m(args) \u001b[39m>\u001b[39m num_allow_args:\n\u001b[0;32m    326\u001b[0m     warnings\u001b[39m.\u001b[39mwarn(\n\u001b[0;32m    327\u001b[0m         msg\u001b[39m.\u001b[39mformat(arguments\u001b[39m=\u001b[39m_format_argument_list(allow_args)),\n\u001b[0;32m    328\u001b[0m         \u001b[39mFutureWarning\u001b[39;00m,\n\u001b[0;32m    329\u001b[0m         stacklevel\u001b[39m=\u001b[39mfind_stack_level(),\n\u001b[0;32m    330\u001b[0m     )\n\u001b[1;32m--> 331\u001b[0m \u001b[39mreturn\u001b[39;00m func(\u001b[39m*\u001b[39;49margs, \u001b[39m*\u001b[39;49m\u001b[39m*\u001b[39;49mkwargs)\n",
      "File \u001b[1;32mc:\\Users\\Hussain\\AppData\\Local\\Programs\\Python\\Python311\\Lib\\site-packages\\pandas\\io\\parsers\\readers.py:950\u001b[0m, in \u001b[0;36mread_csv\u001b[1;34m(filepath_or_buffer, sep, delimiter, header, names, index_col, usecols, squeeze, prefix, mangle_dupe_cols, dtype, engine, converters, true_values, false_values, skipinitialspace, skiprows, skipfooter, nrows, na_values, keep_default_na, na_filter, verbose, skip_blank_lines, parse_dates, infer_datetime_format, keep_date_col, date_parser, dayfirst, cache_dates, iterator, chunksize, compression, thousands, decimal, lineterminator, quotechar, quoting, doublequote, escapechar, comment, encoding, encoding_errors, dialect, error_bad_lines, warn_bad_lines, on_bad_lines, delim_whitespace, low_memory, memory_map, float_precision, storage_options)\u001b[0m\n\u001b[0;32m    935\u001b[0m kwds_defaults \u001b[39m=\u001b[39m _refine_defaults_read(\n\u001b[0;32m    936\u001b[0m     dialect,\n\u001b[0;32m    937\u001b[0m     delimiter,\n\u001b[1;32m   (...)\u001b[0m\n\u001b[0;32m    946\u001b[0m     defaults\u001b[39m=\u001b[39m{\u001b[39m\"\u001b[39m\u001b[39mdelimiter\u001b[39m\u001b[39m\"\u001b[39m: \u001b[39m\"\u001b[39m\u001b[39m,\u001b[39m\u001b[39m\"\u001b[39m},\n\u001b[0;32m    947\u001b[0m )\n\u001b[0;32m    948\u001b[0m kwds\u001b[39m.\u001b[39mupdate(kwds_defaults)\n\u001b[1;32m--> 950\u001b[0m \u001b[39mreturn\u001b[39;00m _read(filepath_or_buffer, kwds)\n",
      "File \u001b[1;32mc:\\Users\\Hussain\\AppData\\Local\\Programs\\Python\\Python311\\Lib\\site-packages\\pandas\\io\\parsers\\readers.py:605\u001b[0m, in \u001b[0;36m_read\u001b[1;34m(filepath_or_buffer, kwds)\u001b[0m\n\u001b[0;32m    602\u001b[0m _validate_names(kwds\u001b[39m.\u001b[39mget(\u001b[39m\"\u001b[39m\u001b[39mnames\u001b[39m\u001b[39m\"\u001b[39m, \u001b[39mNone\u001b[39;00m))\n\u001b[0;32m    604\u001b[0m \u001b[39m# Create the parser.\u001b[39;00m\n\u001b[1;32m--> 605\u001b[0m parser \u001b[39m=\u001b[39m TextFileReader(filepath_or_buffer, \u001b[39m*\u001b[39;49m\u001b[39m*\u001b[39;49mkwds)\n\u001b[0;32m    607\u001b[0m \u001b[39mif\u001b[39;00m chunksize \u001b[39mor\u001b[39;00m iterator:\n\u001b[0;32m    608\u001b[0m     \u001b[39mreturn\u001b[39;00m parser\n",
      "File \u001b[1;32mc:\\Users\\Hussain\\AppData\\Local\\Programs\\Python\\Python311\\Lib\\site-packages\\pandas\\io\\parsers\\readers.py:1442\u001b[0m, in \u001b[0;36mTextFileReader.__init__\u001b[1;34m(self, f, engine, **kwds)\u001b[0m\n\u001b[0;32m   1439\u001b[0m     \u001b[39mself\u001b[39m\u001b[39m.\u001b[39moptions[\u001b[39m\"\u001b[39m\u001b[39mhas_index_names\u001b[39m\u001b[39m\"\u001b[39m] \u001b[39m=\u001b[39m kwds[\u001b[39m\"\u001b[39m\u001b[39mhas_index_names\u001b[39m\u001b[39m\"\u001b[39m]\n\u001b[0;32m   1441\u001b[0m \u001b[39mself\u001b[39m\u001b[39m.\u001b[39mhandles: IOHandles \u001b[39m|\u001b[39m \u001b[39mNone\u001b[39;00m \u001b[39m=\u001b[39m \u001b[39mNone\u001b[39;00m\n\u001b[1;32m-> 1442\u001b[0m \u001b[39mself\u001b[39m\u001b[39m.\u001b[39m_engine \u001b[39m=\u001b[39m \u001b[39mself\u001b[39;49m\u001b[39m.\u001b[39;49m_make_engine(f, \u001b[39mself\u001b[39;49m\u001b[39m.\u001b[39;49mengine)\n",
      "File \u001b[1;32mc:\\Users\\Hussain\\AppData\\Local\\Programs\\Python\\Python311\\Lib\\site-packages\\pandas\\io\\parsers\\readers.py:1735\u001b[0m, in \u001b[0;36mTextFileReader._make_engine\u001b[1;34m(self, f, engine)\u001b[0m\n\u001b[0;32m   1733\u001b[0m     \u001b[39mif\u001b[39;00m \u001b[39m\"\u001b[39m\u001b[39mb\u001b[39m\u001b[39m\"\u001b[39m \u001b[39mnot\u001b[39;00m \u001b[39min\u001b[39;00m mode:\n\u001b[0;32m   1734\u001b[0m         mode \u001b[39m+\u001b[39m\u001b[39m=\u001b[39m \u001b[39m\"\u001b[39m\u001b[39mb\u001b[39m\u001b[39m\"\u001b[39m\n\u001b[1;32m-> 1735\u001b[0m \u001b[39mself\u001b[39m\u001b[39m.\u001b[39mhandles \u001b[39m=\u001b[39m get_handle(\n\u001b[0;32m   1736\u001b[0m     f,\n\u001b[0;32m   1737\u001b[0m     mode,\n\u001b[0;32m   1738\u001b[0m     encoding\u001b[39m=\u001b[39;49m\u001b[39mself\u001b[39;49m\u001b[39m.\u001b[39;49moptions\u001b[39m.\u001b[39;49mget(\u001b[39m\"\u001b[39;49m\u001b[39mencoding\u001b[39;49m\u001b[39m\"\u001b[39;49m, \u001b[39mNone\u001b[39;49;00m),\n\u001b[0;32m   1739\u001b[0m     compression\u001b[39m=\u001b[39;49m\u001b[39mself\u001b[39;49m\u001b[39m.\u001b[39;49moptions\u001b[39m.\u001b[39;49mget(\u001b[39m\"\u001b[39;49m\u001b[39mcompression\u001b[39;49m\u001b[39m\"\u001b[39;49m, \u001b[39mNone\u001b[39;49;00m),\n\u001b[0;32m   1740\u001b[0m     memory_map\u001b[39m=\u001b[39;49m\u001b[39mself\u001b[39;49m\u001b[39m.\u001b[39;49moptions\u001b[39m.\u001b[39;49mget(\u001b[39m\"\u001b[39;49m\u001b[39mmemory_map\u001b[39;49m\u001b[39m\"\u001b[39;49m, \u001b[39mFalse\u001b[39;49;00m),\n\u001b[0;32m   1741\u001b[0m     is_text\u001b[39m=\u001b[39;49mis_text,\n\u001b[0;32m   1742\u001b[0m     errors\u001b[39m=\u001b[39;49m\u001b[39mself\u001b[39;49m\u001b[39m.\u001b[39;49moptions\u001b[39m.\u001b[39;49mget(\u001b[39m\"\u001b[39;49m\u001b[39mencoding_errors\u001b[39;49m\u001b[39m\"\u001b[39;49m, \u001b[39m\"\u001b[39;49m\u001b[39mstrict\u001b[39;49m\u001b[39m\"\u001b[39;49m),\n\u001b[0;32m   1743\u001b[0m     storage_options\u001b[39m=\u001b[39;49m\u001b[39mself\u001b[39;49m\u001b[39m.\u001b[39;49moptions\u001b[39m.\u001b[39;49mget(\u001b[39m\"\u001b[39;49m\u001b[39mstorage_options\u001b[39;49m\u001b[39m\"\u001b[39;49m, \u001b[39mNone\u001b[39;49;00m),\n\u001b[0;32m   1744\u001b[0m )\n\u001b[0;32m   1745\u001b[0m \u001b[39massert\u001b[39;00m \u001b[39mself\u001b[39m\u001b[39m.\u001b[39mhandles \u001b[39mis\u001b[39;00m \u001b[39mnot\u001b[39;00m \u001b[39mNone\u001b[39;00m\n\u001b[0;32m   1746\u001b[0m f \u001b[39m=\u001b[39m \u001b[39mself\u001b[39m\u001b[39m.\u001b[39mhandles\u001b[39m.\u001b[39mhandle\n",
      "File \u001b[1;32mc:\\Users\\Hussain\\AppData\\Local\\Programs\\Python\\Python311\\Lib\\site-packages\\pandas\\io\\common.py:856\u001b[0m, in \u001b[0;36mget_handle\u001b[1;34m(path_or_buf, mode, encoding, compression, memory_map, is_text, errors, storage_options)\u001b[0m\n\u001b[0;32m    851\u001b[0m \u001b[39melif\u001b[39;00m \u001b[39misinstance\u001b[39m(handle, \u001b[39mstr\u001b[39m):\n\u001b[0;32m    852\u001b[0m     \u001b[39m# Check whether the filename is to be opened in binary mode.\u001b[39;00m\n\u001b[0;32m    853\u001b[0m     \u001b[39m# Binary mode does not support 'encoding' and 'newline'.\u001b[39;00m\n\u001b[0;32m    854\u001b[0m     \u001b[39mif\u001b[39;00m ioargs\u001b[39m.\u001b[39mencoding \u001b[39mand\u001b[39;00m \u001b[39m\"\u001b[39m\u001b[39mb\u001b[39m\u001b[39m\"\u001b[39m \u001b[39mnot\u001b[39;00m \u001b[39min\u001b[39;00m ioargs\u001b[39m.\u001b[39mmode:\n\u001b[0;32m    855\u001b[0m         \u001b[39m# Encoding\u001b[39;00m\n\u001b[1;32m--> 856\u001b[0m         handle \u001b[39m=\u001b[39m \u001b[39mopen\u001b[39;49m(\n\u001b[0;32m    857\u001b[0m             handle,\n\u001b[0;32m    858\u001b[0m             ioargs\u001b[39m.\u001b[39;49mmode,\n\u001b[0;32m    859\u001b[0m             encoding\u001b[39m=\u001b[39;49mioargs\u001b[39m.\u001b[39;49mencoding,\n\u001b[0;32m    860\u001b[0m             errors\u001b[39m=\u001b[39;49merrors,\n\u001b[0;32m    861\u001b[0m             newline\u001b[39m=\u001b[39;49m\u001b[39m\"\u001b[39;49m\u001b[39m\"\u001b[39;49m,\n\u001b[0;32m    862\u001b[0m         )\n\u001b[0;32m    863\u001b[0m     \u001b[39melse\u001b[39;00m:\n\u001b[0;32m    864\u001b[0m         \u001b[39m# Binary mode\u001b[39;00m\n\u001b[0;32m    865\u001b[0m         handle \u001b[39m=\u001b[39m \u001b[39mopen\u001b[39m(handle, ioargs\u001b[39m.\u001b[39mmode)\n",
      "\u001b[1;31mFileNotFoundError\u001b[0m: [Errno 2] No such file or directory: 'F:\\\\Programming\\\\Python\\\\Artificial Intelligence\\\\Libraries\\\\Pandas\\\\Practice\\\\myFile0.csv'"
     ]
    }
   ],
   "source": [
    "# variable_name = pd.read_csv(\"path\")\n",
    "csv_1 = pd.read_csv(\"F:\\\\Programming\\\\Python\\\\Artificial Intelligence\\\\Libraries\\\\Pandas\\\\Practice\\\\myFile0.csv\")\n",
    "csv_1"
   ]
  },
  {
   "cell_type": "markdown",
   "metadata": {},
   "source": [
    "### Retrieve Particular Row or Column."
   ]
  },
  {
   "cell_type": "markdown",
   "metadata": {},
   "source": [
    "#### Rows"
   ]
  },
  {
   "cell_type": "code",
   "execution_count": null,
   "metadata": {},
   "outputs": [
    {
     "data": {
      "text/html": [
       "<div>\n",
       "<style scoped>\n",
       "    .dataframe tbody tr th:only-of-type {\n",
       "        vertical-align: middle;\n",
       "    }\n",
       "\n",
       "    .dataframe tbody tr th {\n",
       "        vertical-align: top;\n",
       "    }\n",
       "\n",
       "    .dataframe thead th {\n",
       "        text-align: right;\n",
       "    }\n",
       "</style>\n",
       "<table border=\"1\" class=\"dataframe\">\n",
       "  <thead>\n",
       "    <tr style=\"text-align: right;\">\n",
       "      <th></th>\n",
       "      <th>id</th>\n",
       "      <th>firstname</th>\n",
       "      <th>lastname</th>\n",
       "      <th>email</th>\n",
       "      <th>email2</th>\n",
       "      <th>profession</th>\n",
       "      <th>Field Name</th>\n",
       "    </tr>\n",
       "  </thead>\n",
       "  <tbody>\n",
       "    <tr>\n",
       "      <th>0</th>\n",
       "      <td>100</td>\n",
       "      <td>Sam</td>\n",
       "      <td>Karl</td>\n",
       "      <td>Sam.Karl@yopmail.com</td>\n",
       "      <td>Sam.Karl@gmail.com</td>\n",
       "      <td>firefighter</td>\n",
       "      <td>1</td>\n",
       "    </tr>\n",
       "  </tbody>\n",
       "</table>\n",
       "</div>"
      ],
      "text/plain": [
       "    id firstname lastname                 email              email2  \\\n",
       "0  100       Sam     Karl  Sam.Karl@yopmail.com  Sam.Karl@gmail.com   \n",
       "\n",
       "    profession  Field Name  \n",
       "0  firefighter           1  "
      ]
     },
     "execution_count": 21,
     "metadata": {},
     "output_type": "execute_result"
    }
   ],
   "source": [
    "# csv_2 = pd.read_csv(\"Path\",nrows=1)\n",
    "csv_2 = pd.read_csv(\"F:\\\\Programming\\\\Python\\\\Artificial Intelligence\\\\Libraries\\\\Pandas\\\\Practice\\\\myFile0.csv\",nrows=1)\n",
    "csv_2"
   ]
  },
  {
   "cell_type": "markdown",
   "metadata": {},
   "source": [
    "#### Columns"
   ]
  },
  {
   "cell_type": "code",
   "execution_count": 19,
   "metadata": {},
   "outputs": [
    {
     "ename": "FileNotFoundError",
     "evalue": "[Errno 2] No such file or directory: 'F:\\\\Programming\\\\Python\\\\Artificial Intelligence\\\\Libraries\\\\Pandas\\\\Practice\\\\myFile0.csv'",
     "output_type": "error",
     "traceback": [
      "\u001b[1;31m---------------------------------------------------------------------------\u001b[0m",
      "\u001b[1;31mFileNotFoundError\u001b[0m                         Traceback (most recent call last)",
      "Cell \u001b[1;32mIn[19], line 3\u001b[0m\n\u001b[0;32m      1\u001b[0m \u001b[39m# csv_3 = pd.read_csv(\"Path\",usecols=[\"Column Name\" or index no])\u001b[39;00m\n\u001b[0;32m      2\u001b[0m \u001b[39m# csv_3 = pd.read_csv(\"F:\\\\Programming\\\\Python\\\\Artificial Intelligence\\\\Libraries\\\\Pandas\\\\Practice\\\\myFile0.csv\",usecols=[\"firstname\",\"email\"])\u001b[39;00m\n\u001b[1;32m----> 3\u001b[0m csv_3 \u001b[39m=\u001b[39m pd\u001b[39m.\u001b[39;49mread_csv(\u001b[39m\"\u001b[39;49m\u001b[39mF:\u001b[39;49m\u001b[39m\\\\\u001b[39;49;00m\u001b[39mProgramming\u001b[39;49m\u001b[39m\\\\\u001b[39;49;00m\u001b[39mPython\u001b[39;49m\u001b[39m\\\\\u001b[39;49;00m\u001b[39mArtificial Intelligence\u001b[39;49m\u001b[39m\\\\\u001b[39;49;00m\u001b[39mLibraries\u001b[39;49m\u001b[39m\\\\\u001b[39;49;00m\u001b[39mPandas\u001b[39;49m\u001b[39m\\\\\u001b[39;49;00m\u001b[39mPractice\u001b[39;49m\u001b[39m\\\\\u001b[39;49;00m\u001b[39mmyFile0.csv\u001b[39;49m\u001b[39m\"\u001b[39;49m,usecols\u001b[39m=\u001b[39;49m[\u001b[39m0\u001b[39;49m])\n\u001b[0;32m      4\u001b[0m csv_3\n",
      "File \u001b[1;32mc:\\Users\\Hussain\\AppData\\Local\\Programs\\Python\\Python311\\Lib\\site-packages\\pandas\\util\\_decorators.py:211\u001b[0m, in \u001b[0;36mdeprecate_kwarg.<locals>._deprecate_kwarg.<locals>.wrapper\u001b[1;34m(*args, **kwargs)\u001b[0m\n\u001b[0;32m    209\u001b[0m     \u001b[39melse\u001b[39;00m:\n\u001b[0;32m    210\u001b[0m         kwargs[new_arg_name] \u001b[39m=\u001b[39m new_arg_value\n\u001b[1;32m--> 211\u001b[0m \u001b[39mreturn\u001b[39;00m func(\u001b[39m*\u001b[39;49margs, \u001b[39m*\u001b[39;49m\u001b[39m*\u001b[39;49mkwargs)\n",
      "File \u001b[1;32mc:\\Users\\Hussain\\AppData\\Local\\Programs\\Python\\Python311\\Lib\\site-packages\\pandas\\util\\_decorators.py:331\u001b[0m, in \u001b[0;36mdeprecate_nonkeyword_arguments.<locals>.decorate.<locals>.wrapper\u001b[1;34m(*args, **kwargs)\u001b[0m\n\u001b[0;32m    325\u001b[0m \u001b[39mif\u001b[39;00m \u001b[39mlen\u001b[39m(args) \u001b[39m>\u001b[39m num_allow_args:\n\u001b[0;32m    326\u001b[0m     warnings\u001b[39m.\u001b[39mwarn(\n\u001b[0;32m    327\u001b[0m         msg\u001b[39m.\u001b[39mformat(arguments\u001b[39m=\u001b[39m_format_argument_list(allow_args)),\n\u001b[0;32m    328\u001b[0m         \u001b[39mFutureWarning\u001b[39;00m,\n\u001b[0;32m    329\u001b[0m         stacklevel\u001b[39m=\u001b[39mfind_stack_level(),\n\u001b[0;32m    330\u001b[0m     )\n\u001b[1;32m--> 331\u001b[0m \u001b[39mreturn\u001b[39;00m func(\u001b[39m*\u001b[39;49margs, \u001b[39m*\u001b[39;49m\u001b[39m*\u001b[39;49mkwargs)\n",
      "File \u001b[1;32mc:\\Users\\Hussain\\AppData\\Local\\Programs\\Python\\Python311\\Lib\\site-packages\\pandas\\io\\parsers\\readers.py:950\u001b[0m, in \u001b[0;36mread_csv\u001b[1;34m(filepath_or_buffer, sep, delimiter, header, names, index_col, usecols, squeeze, prefix, mangle_dupe_cols, dtype, engine, converters, true_values, false_values, skipinitialspace, skiprows, skipfooter, nrows, na_values, keep_default_na, na_filter, verbose, skip_blank_lines, parse_dates, infer_datetime_format, keep_date_col, date_parser, dayfirst, cache_dates, iterator, chunksize, compression, thousands, decimal, lineterminator, quotechar, quoting, doublequote, escapechar, comment, encoding, encoding_errors, dialect, error_bad_lines, warn_bad_lines, on_bad_lines, delim_whitespace, low_memory, memory_map, float_precision, storage_options)\u001b[0m\n\u001b[0;32m    935\u001b[0m kwds_defaults \u001b[39m=\u001b[39m _refine_defaults_read(\n\u001b[0;32m    936\u001b[0m     dialect,\n\u001b[0;32m    937\u001b[0m     delimiter,\n\u001b[1;32m   (...)\u001b[0m\n\u001b[0;32m    946\u001b[0m     defaults\u001b[39m=\u001b[39m{\u001b[39m\"\u001b[39m\u001b[39mdelimiter\u001b[39m\u001b[39m\"\u001b[39m: \u001b[39m\"\u001b[39m\u001b[39m,\u001b[39m\u001b[39m\"\u001b[39m},\n\u001b[0;32m    947\u001b[0m )\n\u001b[0;32m    948\u001b[0m kwds\u001b[39m.\u001b[39mupdate(kwds_defaults)\n\u001b[1;32m--> 950\u001b[0m \u001b[39mreturn\u001b[39;00m _read(filepath_or_buffer, kwds)\n",
      "File \u001b[1;32mc:\\Users\\Hussain\\AppData\\Local\\Programs\\Python\\Python311\\Lib\\site-packages\\pandas\\io\\parsers\\readers.py:605\u001b[0m, in \u001b[0;36m_read\u001b[1;34m(filepath_or_buffer, kwds)\u001b[0m\n\u001b[0;32m    602\u001b[0m _validate_names(kwds\u001b[39m.\u001b[39mget(\u001b[39m\"\u001b[39m\u001b[39mnames\u001b[39m\u001b[39m\"\u001b[39m, \u001b[39mNone\u001b[39;00m))\n\u001b[0;32m    604\u001b[0m \u001b[39m# Create the parser.\u001b[39;00m\n\u001b[1;32m--> 605\u001b[0m parser \u001b[39m=\u001b[39m TextFileReader(filepath_or_buffer, \u001b[39m*\u001b[39;49m\u001b[39m*\u001b[39;49mkwds)\n\u001b[0;32m    607\u001b[0m \u001b[39mif\u001b[39;00m chunksize \u001b[39mor\u001b[39;00m iterator:\n\u001b[0;32m    608\u001b[0m     \u001b[39mreturn\u001b[39;00m parser\n",
      "File \u001b[1;32mc:\\Users\\Hussain\\AppData\\Local\\Programs\\Python\\Python311\\Lib\\site-packages\\pandas\\io\\parsers\\readers.py:1442\u001b[0m, in \u001b[0;36mTextFileReader.__init__\u001b[1;34m(self, f, engine, **kwds)\u001b[0m\n\u001b[0;32m   1439\u001b[0m     \u001b[39mself\u001b[39m\u001b[39m.\u001b[39moptions[\u001b[39m\"\u001b[39m\u001b[39mhas_index_names\u001b[39m\u001b[39m\"\u001b[39m] \u001b[39m=\u001b[39m kwds[\u001b[39m\"\u001b[39m\u001b[39mhas_index_names\u001b[39m\u001b[39m\"\u001b[39m]\n\u001b[0;32m   1441\u001b[0m \u001b[39mself\u001b[39m\u001b[39m.\u001b[39mhandles: IOHandles \u001b[39m|\u001b[39m \u001b[39mNone\u001b[39;00m \u001b[39m=\u001b[39m \u001b[39mNone\u001b[39;00m\n\u001b[1;32m-> 1442\u001b[0m \u001b[39mself\u001b[39m\u001b[39m.\u001b[39m_engine \u001b[39m=\u001b[39m \u001b[39mself\u001b[39;49m\u001b[39m.\u001b[39;49m_make_engine(f, \u001b[39mself\u001b[39;49m\u001b[39m.\u001b[39;49mengine)\n",
      "File \u001b[1;32mc:\\Users\\Hussain\\AppData\\Local\\Programs\\Python\\Python311\\Lib\\site-packages\\pandas\\io\\parsers\\readers.py:1735\u001b[0m, in \u001b[0;36mTextFileReader._make_engine\u001b[1;34m(self, f, engine)\u001b[0m\n\u001b[0;32m   1733\u001b[0m     \u001b[39mif\u001b[39;00m \u001b[39m\"\u001b[39m\u001b[39mb\u001b[39m\u001b[39m\"\u001b[39m \u001b[39mnot\u001b[39;00m \u001b[39min\u001b[39;00m mode:\n\u001b[0;32m   1734\u001b[0m         mode \u001b[39m+\u001b[39m\u001b[39m=\u001b[39m \u001b[39m\"\u001b[39m\u001b[39mb\u001b[39m\u001b[39m\"\u001b[39m\n\u001b[1;32m-> 1735\u001b[0m \u001b[39mself\u001b[39m\u001b[39m.\u001b[39mhandles \u001b[39m=\u001b[39m get_handle(\n\u001b[0;32m   1736\u001b[0m     f,\n\u001b[0;32m   1737\u001b[0m     mode,\n\u001b[0;32m   1738\u001b[0m     encoding\u001b[39m=\u001b[39;49m\u001b[39mself\u001b[39;49m\u001b[39m.\u001b[39;49moptions\u001b[39m.\u001b[39;49mget(\u001b[39m\"\u001b[39;49m\u001b[39mencoding\u001b[39;49m\u001b[39m\"\u001b[39;49m, \u001b[39mNone\u001b[39;49;00m),\n\u001b[0;32m   1739\u001b[0m     compression\u001b[39m=\u001b[39;49m\u001b[39mself\u001b[39;49m\u001b[39m.\u001b[39;49moptions\u001b[39m.\u001b[39;49mget(\u001b[39m\"\u001b[39;49m\u001b[39mcompression\u001b[39;49m\u001b[39m\"\u001b[39;49m, \u001b[39mNone\u001b[39;49;00m),\n\u001b[0;32m   1740\u001b[0m     memory_map\u001b[39m=\u001b[39;49m\u001b[39mself\u001b[39;49m\u001b[39m.\u001b[39;49moptions\u001b[39m.\u001b[39;49mget(\u001b[39m\"\u001b[39;49m\u001b[39mmemory_map\u001b[39;49m\u001b[39m\"\u001b[39;49m, \u001b[39mFalse\u001b[39;49;00m),\n\u001b[0;32m   1741\u001b[0m     is_text\u001b[39m=\u001b[39;49mis_text,\n\u001b[0;32m   1742\u001b[0m     errors\u001b[39m=\u001b[39;49m\u001b[39mself\u001b[39;49m\u001b[39m.\u001b[39;49moptions\u001b[39m.\u001b[39;49mget(\u001b[39m\"\u001b[39;49m\u001b[39mencoding_errors\u001b[39;49m\u001b[39m\"\u001b[39;49m, \u001b[39m\"\u001b[39;49m\u001b[39mstrict\u001b[39;49m\u001b[39m\"\u001b[39;49m),\n\u001b[0;32m   1743\u001b[0m     storage_options\u001b[39m=\u001b[39;49m\u001b[39mself\u001b[39;49m\u001b[39m.\u001b[39;49moptions\u001b[39m.\u001b[39;49mget(\u001b[39m\"\u001b[39;49m\u001b[39mstorage_options\u001b[39;49m\u001b[39m\"\u001b[39;49m, \u001b[39mNone\u001b[39;49;00m),\n\u001b[0;32m   1744\u001b[0m )\n\u001b[0;32m   1745\u001b[0m \u001b[39massert\u001b[39;00m \u001b[39mself\u001b[39m\u001b[39m.\u001b[39mhandles \u001b[39mis\u001b[39;00m \u001b[39mnot\u001b[39;00m \u001b[39mNone\u001b[39;00m\n\u001b[0;32m   1746\u001b[0m f \u001b[39m=\u001b[39m \u001b[39mself\u001b[39m\u001b[39m.\u001b[39mhandles\u001b[39m.\u001b[39mhandle\n",
      "File \u001b[1;32mc:\\Users\\Hussain\\AppData\\Local\\Programs\\Python\\Python311\\Lib\\site-packages\\pandas\\io\\common.py:856\u001b[0m, in \u001b[0;36mget_handle\u001b[1;34m(path_or_buf, mode, encoding, compression, memory_map, is_text, errors, storage_options)\u001b[0m\n\u001b[0;32m    851\u001b[0m \u001b[39melif\u001b[39;00m \u001b[39misinstance\u001b[39m(handle, \u001b[39mstr\u001b[39m):\n\u001b[0;32m    852\u001b[0m     \u001b[39m# Check whether the filename is to be opened in binary mode.\u001b[39;00m\n\u001b[0;32m    853\u001b[0m     \u001b[39m# Binary mode does not support 'encoding' and 'newline'.\u001b[39;00m\n\u001b[0;32m    854\u001b[0m     \u001b[39mif\u001b[39;00m ioargs\u001b[39m.\u001b[39mencoding \u001b[39mand\u001b[39;00m \u001b[39m\"\u001b[39m\u001b[39mb\u001b[39m\u001b[39m\"\u001b[39m \u001b[39mnot\u001b[39;00m \u001b[39min\u001b[39;00m ioargs\u001b[39m.\u001b[39mmode:\n\u001b[0;32m    855\u001b[0m         \u001b[39m# Encoding\u001b[39;00m\n\u001b[1;32m--> 856\u001b[0m         handle \u001b[39m=\u001b[39m \u001b[39mopen\u001b[39;49m(\n\u001b[0;32m    857\u001b[0m             handle,\n\u001b[0;32m    858\u001b[0m             ioargs\u001b[39m.\u001b[39;49mmode,\n\u001b[0;32m    859\u001b[0m             encoding\u001b[39m=\u001b[39;49mioargs\u001b[39m.\u001b[39;49mencoding,\n\u001b[0;32m    860\u001b[0m             errors\u001b[39m=\u001b[39;49merrors,\n\u001b[0;32m    861\u001b[0m             newline\u001b[39m=\u001b[39;49m\u001b[39m\"\u001b[39;49m\u001b[39m\"\u001b[39;49m,\n\u001b[0;32m    862\u001b[0m         )\n\u001b[0;32m    863\u001b[0m     \u001b[39melse\u001b[39;00m:\n\u001b[0;32m    864\u001b[0m         \u001b[39m# Binary mode\u001b[39;00m\n\u001b[0;32m    865\u001b[0m         handle \u001b[39m=\u001b[39m \u001b[39mopen\u001b[39m(handle, ioargs\u001b[39m.\u001b[39mmode)\n",
      "\u001b[1;31mFileNotFoundError\u001b[0m: [Errno 2] No such file or directory: 'F:\\\\Programming\\\\Python\\\\Artificial Intelligence\\\\Libraries\\\\Pandas\\\\Practice\\\\myFile0.csv'"
     ]
    }
   ],
   "source": [
    "# csv_3 = pd.read_csv(\"Path\",usecols=[\"Column Name\" or index no])\n",
    "# csv_3 = pd.read_csv(\"F:\\\\Programming\\\\Python\\\\Artificial Intelligence\\\\Libraries\\\\Pandas\\\\Practice\\\\myFile0.csv\",usecols=[\"firstname\",\"email\"])\n",
    "csv_3 = pd.read_csv(\"F:\\\\Programming\\\\Python\\\\Artificial Intelligence\\\\Libraries\\\\Pandas\\\\Practice\\\\myFile0.csv\",usecols=[0])\n",
    "csv_3"
   ]
  },
  {
   "cell_type": "markdown",
   "metadata": {},
   "source": [
    "#### Skip particular row."
   ]
  },
  {
   "cell_type": "code",
   "execution_count": null,
   "metadata": {},
   "outputs": [
    {
     "data": {
      "text/html": [
       "<div>\n",
       "<style scoped>\n",
       "    .dataframe tbody tr th:only-of-type {\n",
       "        vertical-align: middle;\n",
       "    }\n",
       "\n",
       "    .dataframe tbody tr th {\n",
       "        vertical-align: top;\n",
       "    }\n",
       "\n",
       "    .dataframe thead th {\n",
       "        text-align: right;\n",
       "    }\n",
       "</style>\n",
       "<table border=\"1\" class=\"dataframe\">\n",
       "  <thead>\n",
       "    <tr style=\"text-align: right;\">\n",
       "      <th></th>\n",
       "      <th>100</th>\n",
       "      <th>Sam</th>\n",
       "      <th>Karl</th>\n",
       "      <th>Sam.Karl@yopmail.com</th>\n",
       "      <th>Sam.Karl@gmail.com</th>\n",
       "      <th>firefighter</th>\n",
       "      <th>1</th>\n",
       "    </tr>\n",
       "  </thead>\n",
       "  <tbody>\n",
       "    <tr>\n",
       "      <th>0</th>\n",
       "      <td>101</td>\n",
       "      <td>Caressa</td>\n",
       "      <td>Lea</td>\n",
       "      <td>Caressa.Lea@yopmail.com</td>\n",
       "      <td>Caressa.Lea@gmail.com</td>\n",
       "      <td>firefighter</td>\n",
       "      <td>2</td>\n",
       "    </tr>\n",
       "    <tr>\n",
       "      <th>1</th>\n",
       "      <td>102</td>\n",
       "      <td>Joeann</td>\n",
       "      <td>Rustice</td>\n",
       "      <td>Joeann.Rustice@yopmail.com</td>\n",
       "      <td>Joeann.Rustice@gmail.com</td>\n",
       "      <td>doctor</td>\n",
       "      <td>3</td>\n",
       "    </tr>\n",
       "    <tr>\n",
       "      <th>2</th>\n",
       "      <td>104</td>\n",
       "      <td>Ernesta</td>\n",
       "      <td>Aprile</td>\n",
       "      <td>Ernesta.Aprile@yopmail.com</td>\n",
       "      <td>Ernesta.Aprile@gmail.com</td>\n",
       "      <td>police officer</td>\n",
       "      <td>5</td>\n",
       "    </tr>\n",
       "    <tr>\n",
       "      <th>3</th>\n",
       "      <td>105</td>\n",
       "      <td>Celisse</td>\n",
       "      <td>Zola</td>\n",
       "      <td>Celisse.Zola@yopmail.com</td>\n",
       "      <td>Celisse.Zola@gmail.com</td>\n",
       "      <td>worker</td>\n",
       "      <td>6</td>\n",
       "    </tr>\n",
       "    <tr>\n",
       "      <th>4</th>\n",
       "      <td>106</td>\n",
       "      <td>Belinda</td>\n",
       "      <td>Wandie</td>\n",
       "      <td>Belinda.Wandie@yopmail.com</td>\n",
       "      <td>Belinda.Wandie@gmail.com</td>\n",
       "      <td>firefighter</td>\n",
       "      <td>7</td>\n",
       "    </tr>\n",
       "    <tr>\n",
       "      <th>...</th>\n",
       "      <td>...</td>\n",
       "      <td>...</td>\n",
       "      <td>...</td>\n",
       "      <td>...</td>\n",
       "      <td>...</td>\n",
       "      <td>...</td>\n",
       "      <td>...</td>\n",
       "    </tr>\n",
       "    <tr>\n",
       "      <th>993</th>\n",
       "      <td>1095</td>\n",
       "      <td>Gavrielle</td>\n",
       "      <td>Cynar</td>\n",
       "      <td>Gavrielle.Cynar@yopmail.com</td>\n",
       "      <td>Gavrielle.Cynar@gmail.com</td>\n",
       "      <td>worker</td>\n",
       "      <td>996</td>\n",
       "    </tr>\n",
       "    <tr>\n",
       "      <th>994</th>\n",
       "      <td>1096</td>\n",
       "      <td>Abbie</td>\n",
       "      <td>Daveta</td>\n",
       "      <td>Abbie.Daveta@yopmail.com</td>\n",
       "      <td>Abbie.Daveta@gmail.com</td>\n",
       "      <td>police officer</td>\n",
       "      <td>997</td>\n",
       "    </tr>\n",
       "    <tr>\n",
       "      <th>995</th>\n",
       "      <td>1097</td>\n",
       "      <td>Heida</td>\n",
       "      <td>Bashemeth</td>\n",
       "      <td>Heida.Bashemeth@yopmail.com</td>\n",
       "      <td>Heida.Bashemeth@gmail.com</td>\n",
       "      <td>doctor</td>\n",
       "      <td>998</td>\n",
       "    </tr>\n",
       "    <tr>\n",
       "      <th>996</th>\n",
       "      <td>1098</td>\n",
       "      <td>Karly</td>\n",
       "      <td>Phi</td>\n",
       "      <td>Karly.Phi@yopmail.com</td>\n",
       "      <td>Karly.Phi@gmail.com</td>\n",
       "      <td>worker</td>\n",
       "      <td>999</td>\n",
       "    </tr>\n",
       "    <tr>\n",
       "      <th>997</th>\n",
       "      <td>1099</td>\n",
       "      <td>Darlleen</td>\n",
       "      <td>Tamsky</td>\n",
       "      <td>Darlleen.Tamsky@yopmail.com</td>\n",
       "      <td>Darlleen.Tamsky@gmail.com</td>\n",
       "      <td>police officer</td>\n",
       "      <td>1000</td>\n",
       "    </tr>\n",
       "  </tbody>\n",
       "</table>\n",
       "<p>998 rows × 7 columns</p>\n",
       "</div>"
      ],
      "text/plain": [
       "      100        Sam       Karl         Sam.Karl@yopmail.com  \\\n",
       "0     101    Caressa        Lea      Caressa.Lea@yopmail.com   \n",
       "1     102     Joeann    Rustice   Joeann.Rustice@yopmail.com   \n",
       "2     104    Ernesta     Aprile   Ernesta.Aprile@yopmail.com   \n",
       "3     105    Celisse       Zola     Celisse.Zola@yopmail.com   \n",
       "4     106    Belinda     Wandie   Belinda.Wandie@yopmail.com   \n",
       "..    ...        ...        ...                          ...   \n",
       "993  1095  Gavrielle      Cynar  Gavrielle.Cynar@yopmail.com   \n",
       "994  1096      Abbie     Daveta     Abbie.Daveta@yopmail.com   \n",
       "995  1097      Heida  Bashemeth  Heida.Bashemeth@yopmail.com   \n",
       "996  1098      Karly        Phi        Karly.Phi@yopmail.com   \n",
       "997  1099   Darlleen     Tamsky  Darlleen.Tamsky@yopmail.com   \n",
       "\n",
       "            Sam.Karl@gmail.com     firefighter     1  \n",
       "0        Caressa.Lea@gmail.com     firefighter     2  \n",
       "1     Joeann.Rustice@gmail.com          doctor     3  \n",
       "2     Ernesta.Aprile@gmail.com  police officer     5  \n",
       "3       Celisse.Zola@gmail.com          worker     6  \n",
       "4     Belinda.Wandie@gmail.com     firefighter     7  \n",
       "..                         ...             ...   ...  \n",
       "993  Gavrielle.Cynar@gmail.com          worker   996  \n",
       "994     Abbie.Daveta@gmail.com  police officer   997  \n",
       "995  Heida.Bashemeth@gmail.com          doctor   998  \n",
       "996        Karly.Phi@gmail.com          worker   999  \n",
       "997  Darlleen.Tamsky@gmail.com  police officer  1000  \n",
       "\n",
       "[998 rows x 7 columns]"
      ]
     },
     "execution_count": 26,
     "metadata": {},
     "output_type": "execute_result"
    }
   ],
   "source": [
    "csv_4 = pd.read_csv(\"F:\\\\Programming\\\\Python\\\\Artificial Intelligence\\\\Libraries\\\\Pandas\\\\Practice\\\\myFile0.csv\",skiprows=[0,4])\n",
    "csv_4"
   ]
  },
  {
   "cell_type": "markdown",
   "metadata": {},
   "source": [
    "#### Change index (Convert column into index)"
   ]
  },
  {
   "cell_type": "code",
   "execution_count": null,
   "metadata": {},
   "outputs": [
    {
     "data": {
      "text/html": [
       "<div>\n",
       "<style scoped>\n",
       "    .dataframe tbody tr th:only-of-type {\n",
       "        vertical-align: middle;\n",
       "    }\n",
       "\n",
       "    .dataframe tbody tr th {\n",
       "        vertical-align: top;\n",
       "    }\n",
       "\n",
       "    .dataframe thead th {\n",
       "        text-align: right;\n",
       "    }\n",
       "</style>\n",
       "<table border=\"1\" class=\"dataframe\">\n",
       "  <thead>\n",
       "    <tr style=\"text-align: right;\">\n",
       "      <th></th>\n",
       "      <th>id</th>\n",
       "      <th>firstname</th>\n",
       "      <th>lastname</th>\n",
       "      <th>email2</th>\n",
       "      <th>profession</th>\n",
       "      <th>Field Name</th>\n",
       "    </tr>\n",
       "    <tr>\n",
       "      <th>email</th>\n",
       "      <th></th>\n",
       "      <th></th>\n",
       "      <th></th>\n",
       "      <th></th>\n",
       "      <th></th>\n",
       "      <th></th>\n",
       "    </tr>\n",
       "  </thead>\n",
       "  <tbody>\n",
       "    <tr>\n",
       "      <th>Sam.Karl@yopmail.com</th>\n",
       "      <td>100</td>\n",
       "      <td>Sam</td>\n",
       "      <td>Karl</td>\n",
       "      <td>Sam.Karl@gmail.com</td>\n",
       "      <td>firefighter</td>\n",
       "      <td>1</td>\n",
       "    </tr>\n",
       "    <tr>\n",
       "      <th>Caressa.Lea@yopmail.com</th>\n",
       "      <td>101</td>\n",
       "      <td>Caressa</td>\n",
       "      <td>Lea</td>\n",
       "      <td>Caressa.Lea@gmail.com</td>\n",
       "      <td>firefighter</td>\n",
       "      <td>2</td>\n",
       "    </tr>\n",
       "    <tr>\n",
       "      <th>Joeann.Rustice@yopmail.com</th>\n",
       "      <td>102</td>\n",
       "      <td>Joeann</td>\n",
       "      <td>Rustice</td>\n",
       "      <td>Joeann.Rustice@gmail.com</td>\n",
       "      <td>doctor</td>\n",
       "      <td>3</td>\n",
       "    </tr>\n",
       "    <tr>\n",
       "      <th>Brandise.Johanna@yopmail.com</th>\n",
       "      <td>103</td>\n",
       "      <td>Brandise</td>\n",
       "      <td>Johanna</td>\n",
       "      <td>Brandise.Johanna@gmail.com</td>\n",
       "      <td>firefighter</td>\n",
       "      <td>4</td>\n",
       "    </tr>\n",
       "    <tr>\n",
       "      <th>Ernesta.Aprile@yopmail.com</th>\n",
       "      <td>104</td>\n",
       "      <td>Ernesta</td>\n",
       "      <td>Aprile</td>\n",
       "      <td>Ernesta.Aprile@gmail.com</td>\n",
       "      <td>police officer</td>\n",
       "      <td>5</td>\n",
       "    </tr>\n",
       "    <tr>\n",
       "      <th>...</th>\n",
       "      <td>...</td>\n",
       "      <td>...</td>\n",
       "      <td>...</td>\n",
       "      <td>...</td>\n",
       "      <td>...</td>\n",
       "      <td>...</td>\n",
       "    </tr>\n",
       "    <tr>\n",
       "      <th>Gavrielle.Cynar@yopmail.com</th>\n",
       "      <td>1095</td>\n",
       "      <td>Gavrielle</td>\n",
       "      <td>Cynar</td>\n",
       "      <td>Gavrielle.Cynar@gmail.com</td>\n",
       "      <td>worker</td>\n",
       "      <td>996</td>\n",
       "    </tr>\n",
       "    <tr>\n",
       "      <th>Abbie.Daveta@yopmail.com</th>\n",
       "      <td>1096</td>\n",
       "      <td>Abbie</td>\n",
       "      <td>Daveta</td>\n",
       "      <td>Abbie.Daveta@gmail.com</td>\n",
       "      <td>police officer</td>\n",
       "      <td>997</td>\n",
       "    </tr>\n",
       "    <tr>\n",
       "      <th>Heida.Bashemeth@yopmail.com</th>\n",
       "      <td>1097</td>\n",
       "      <td>Heida</td>\n",
       "      <td>Bashemeth</td>\n",
       "      <td>Heida.Bashemeth@gmail.com</td>\n",
       "      <td>doctor</td>\n",
       "      <td>998</td>\n",
       "    </tr>\n",
       "    <tr>\n",
       "      <th>Karly.Phi@yopmail.com</th>\n",
       "      <td>1098</td>\n",
       "      <td>Karly</td>\n",
       "      <td>Phi</td>\n",
       "      <td>Karly.Phi@gmail.com</td>\n",
       "      <td>worker</td>\n",
       "      <td>999</td>\n",
       "    </tr>\n",
       "    <tr>\n",
       "      <th>Darlleen.Tamsky@yopmail.com</th>\n",
       "      <td>1099</td>\n",
       "      <td>Darlleen</td>\n",
       "      <td>Tamsky</td>\n",
       "      <td>Darlleen.Tamsky@gmail.com</td>\n",
       "      <td>police officer</td>\n",
       "      <td>1000</td>\n",
       "    </tr>\n",
       "  </tbody>\n",
       "</table>\n",
       "<p>1000 rows × 6 columns</p>\n",
       "</div>"
      ],
      "text/plain": [
       "                                id  firstname   lastname  \\\n",
       "email                                                      \n",
       "Sam.Karl@yopmail.com           100        Sam       Karl   \n",
       "Caressa.Lea@yopmail.com        101    Caressa        Lea   \n",
       "Joeann.Rustice@yopmail.com     102     Joeann    Rustice   \n",
       "Brandise.Johanna@yopmail.com   103   Brandise    Johanna   \n",
       "Ernesta.Aprile@yopmail.com     104    Ernesta     Aprile   \n",
       "...                            ...        ...        ...   \n",
       "Gavrielle.Cynar@yopmail.com   1095  Gavrielle      Cynar   \n",
       "Abbie.Daveta@yopmail.com      1096      Abbie     Daveta   \n",
       "Heida.Bashemeth@yopmail.com   1097      Heida  Bashemeth   \n",
       "Karly.Phi@yopmail.com         1098      Karly        Phi   \n",
       "Darlleen.Tamsky@yopmail.com   1099   Darlleen     Tamsky   \n",
       "\n",
       "                                                  email2      profession  \\\n",
       "email                                                                      \n",
       "Sam.Karl@yopmail.com                  Sam.Karl@gmail.com     firefighter   \n",
       "Caressa.Lea@yopmail.com            Caressa.Lea@gmail.com     firefighter   \n",
       "Joeann.Rustice@yopmail.com      Joeann.Rustice@gmail.com          doctor   \n",
       "Brandise.Johanna@yopmail.com  Brandise.Johanna@gmail.com     firefighter   \n",
       "Ernesta.Aprile@yopmail.com      Ernesta.Aprile@gmail.com  police officer   \n",
       "...                                                  ...             ...   \n",
       "Gavrielle.Cynar@yopmail.com    Gavrielle.Cynar@gmail.com          worker   \n",
       "Abbie.Daveta@yopmail.com          Abbie.Daveta@gmail.com  police officer   \n",
       "Heida.Bashemeth@yopmail.com    Heida.Bashemeth@gmail.com          doctor   \n",
       "Karly.Phi@yopmail.com                Karly.Phi@gmail.com          worker   \n",
       "Darlleen.Tamsky@yopmail.com    Darlleen.Tamsky@gmail.com  police officer   \n",
       "\n",
       "                              Field Name  \n",
       "email                                     \n",
       "Sam.Karl@yopmail.com                   1  \n",
       "Caressa.Lea@yopmail.com                2  \n",
       "Joeann.Rustice@yopmail.com             3  \n",
       "Brandise.Johanna@yopmail.com           4  \n",
       "Ernesta.Aprile@yopmail.com             5  \n",
       "...                                  ...  \n",
       "Gavrielle.Cynar@yopmail.com          996  \n",
       "Abbie.Daveta@yopmail.com             997  \n",
       "Heida.Bashemeth@yopmail.com          998  \n",
       "Karly.Phi@yopmail.com                999  \n",
       "Darlleen.Tamsky@yopmail.com         1000  \n",
       "\n",
       "[1000 rows x 6 columns]"
      ]
     },
     "execution_count": 27,
     "metadata": {},
     "output_type": "execute_result"
    }
   ],
   "source": [
    "csv_5 = pd.read_csv(\"F:\\\\Programming\\\\Python\\\\Artificial Intelligence\\\\Libraries\\\\Pandas\\\\Practice\\\\myFile0.csv\",index_col=\"email\")\n",
    "csv_5"
   ]
  },
  {
   "cell_type": "markdown",
   "metadata": {},
   "source": [
    "#### Change Header."
   ]
  },
  {
   "cell_type": "code",
   "execution_count": null,
   "metadata": {},
   "outputs": [
    {
     "data": {
      "text/html": [
       "<div>\n",
       "<style scoped>\n",
       "    .dataframe tbody tr th:only-of-type {\n",
       "        vertical-align: middle;\n",
       "    }\n",
       "\n",
       "    .dataframe tbody tr th {\n",
       "        vertical-align: top;\n",
       "    }\n",
       "\n",
       "    .dataframe thead th {\n",
       "        text-align: right;\n",
       "    }\n",
       "</style>\n",
       "<table border=\"1\" class=\"dataframe\">\n",
       "  <thead>\n",
       "    <tr style=\"text-align: right;\">\n",
       "      <th></th>\n",
       "      <th>102</th>\n",
       "      <th>Joeann</th>\n",
       "      <th>Rustice</th>\n",
       "      <th>Joeann.Rustice@yopmail.com</th>\n",
       "      <th>Joeann.Rustice@gmail.com</th>\n",
       "      <th>doctor</th>\n",
       "      <th>3</th>\n",
       "    </tr>\n",
       "  </thead>\n",
       "  <tbody>\n",
       "    <tr>\n",
       "      <th>0</th>\n",
       "      <td>103</td>\n",
       "      <td>Brandise</td>\n",
       "      <td>Johanna</td>\n",
       "      <td>Brandise.Johanna@yopmail.com</td>\n",
       "      <td>Brandise.Johanna@gmail.com</td>\n",
       "      <td>firefighter</td>\n",
       "      <td>4</td>\n",
       "    </tr>\n",
       "    <tr>\n",
       "      <th>1</th>\n",
       "      <td>104</td>\n",
       "      <td>Ernesta</td>\n",
       "      <td>Aprile</td>\n",
       "      <td>Ernesta.Aprile@yopmail.com</td>\n",
       "      <td>Ernesta.Aprile@gmail.com</td>\n",
       "      <td>police officer</td>\n",
       "      <td>5</td>\n",
       "    </tr>\n",
       "    <tr>\n",
       "      <th>2</th>\n",
       "      <td>105</td>\n",
       "      <td>Celisse</td>\n",
       "      <td>Zola</td>\n",
       "      <td>Celisse.Zola@yopmail.com</td>\n",
       "      <td>Celisse.Zola@gmail.com</td>\n",
       "      <td>worker</td>\n",
       "      <td>6</td>\n",
       "    </tr>\n",
       "    <tr>\n",
       "      <th>3</th>\n",
       "      <td>106</td>\n",
       "      <td>Belinda</td>\n",
       "      <td>Wandie</td>\n",
       "      <td>Belinda.Wandie@yopmail.com</td>\n",
       "      <td>Belinda.Wandie@gmail.com</td>\n",
       "      <td>firefighter</td>\n",
       "      <td>7</td>\n",
       "    </tr>\n",
       "    <tr>\n",
       "      <th>4</th>\n",
       "      <td>107</td>\n",
       "      <td>Liana</td>\n",
       "      <td>Casimir</td>\n",
       "      <td>Liana.Casimir@yopmail.com</td>\n",
       "      <td>Liana.Casimir@gmail.com</td>\n",
       "      <td>worker</td>\n",
       "      <td>8</td>\n",
       "    </tr>\n",
       "    <tr>\n",
       "      <th>...</th>\n",
       "      <td>...</td>\n",
       "      <td>...</td>\n",
       "      <td>...</td>\n",
       "      <td>...</td>\n",
       "      <td>...</td>\n",
       "      <td>...</td>\n",
       "      <td>...</td>\n",
       "    </tr>\n",
       "    <tr>\n",
       "      <th>992</th>\n",
       "      <td>1095</td>\n",
       "      <td>Gavrielle</td>\n",
       "      <td>Cynar</td>\n",
       "      <td>Gavrielle.Cynar@yopmail.com</td>\n",
       "      <td>Gavrielle.Cynar@gmail.com</td>\n",
       "      <td>worker</td>\n",
       "      <td>996</td>\n",
       "    </tr>\n",
       "    <tr>\n",
       "      <th>993</th>\n",
       "      <td>1096</td>\n",
       "      <td>Abbie</td>\n",
       "      <td>Daveta</td>\n",
       "      <td>Abbie.Daveta@yopmail.com</td>\n",
       "      <td>Abbie.Daveta@gmail.com</td>\n",
       "      <td>police officer</td>\n",
       "      <td>997</td>\n",
       "    </tr>\n",
       "    <tr>\n",
       "      <th>994</th>\n",
       "      <td>1097</td>\n",
       "      <td>Heida</td>\n",
       "      <td>Bashemeth</td>\n",
       "      <td>Heida.Bashemeth@yopmail.com</td>\n",
       "      <td>Heida.Bashemeth@gmail.com</td>\n",
       "      <td>doctor</td>\n",
       "      <td>998</td>\n",
       "    </tr>\n",
       "    <tr>\n",
       "      <th>995</th>\n",
       "      <td>1098</td>\n",
       "      <td>Karly</td>\n",
       "      <td>Phi</td>\n",
       "      <td>Karly.Phi@yopmail.com</td>\n",
       "      <td>Karly.Phi@gmail.com</td>\n",
       "      <td>worker</td>\n",
       "      <td>999</td>\n",
       "    </tr>\n",
       "    <tr>\n",
       "      <th>996</th>\n",
       "      <td>1099</td>\n",
       "      <td>Darlleen</td>\n",
       "      <td>Tamsky</td>\n",
       "      <td>Darlleen.Tamsky@yopmail.com</td>\n",
       "      <td>Darlleen.Tamsky@gmail.com</td>\n",
       "      <td>police officer</td>\n",
       "      <td>1000</td>\n",
       "    </tr>\n",
       "  </tbody>\n",
       "</table>\n",
       "<p>997 rows × 7 columns</p>\n",
       "</div>"
      ],
      "text/plain": [
       "      102     Joeann    Rustice    Joeann.Rustice@yopmail.com  \\\n",
       "0     103   Brandise    Johanna  Brandise.Johanna@yopmail.com   \n",
       "1     104    Ernesta     Aprile    Ernesta.Aprile@yopmail.com   \n",
       "2     105    Celisse       Zola      Celisse.Zola@yopmail.com   \n",
       "3     106    Belinda     Wandie    Belinda.Wandie@yopmail.com   \n",
       "4     107      Liana    Casimir     Liana.Casimir@yopmail.com   \n",
       "..    ...        ...        ...                           ...   \n",
       "992  1095  Gavrielle      Cynar   Gavrielle.Cynar@yopmail.com   \n",
       "993  1096      Abbie     Daveta      Abbie.Daveta@yopmail.com   \n",
       "994  1097      Heida  Bashemeth   Heida.Bashemeth@yopmail.com   \n",
       "995  1098      Karly        Phi         Karly.Phi@yopmail.com   \n",
       "996  1099   Darlleen     Tamsky   Darlleen.Tamsky@yopmail.com   \n",
       "\n",
       "       Joeann.Rustice@gmail.com          doctor     3  \n",
       "0    Brandise.Johanna@gmail.com     firefighter     4  \n",
       "1      Ernesta.Aprile@gmail.com  police officer     5  \n",
       "2        Celisse.Zola@gmail.com          worker     6  \n",
       "3      Belinda.Wandie@gmail.com     firefighter     7  \n",
       "4       Liana.Casimir@gmail.com          worker     8  \n",
       "..                          ...             ...   ...  \n",
       "992   Gavrielle.Cynar@gmail.com          worker   996  \n",
       "993      Abbie.Daveta@gmail.com  police officer   997  \n",
       "994   Heida.Bashemeth@gmail.com          doctor   998  \n",
       "995         Karly.Phi@gmail.com          worker   999  \n",
       "996   Darlleen.Tamsky@gmail.com  police officer  1000  \n",
       "\n",
       "[997 rows x 7 columns]"
      ]
     },
     "execution_count": 31,
     "metadata": {},
     "output_type": "execute_result"
    }
   ],
   "source": [
    "csv_6 = pd.read_csv(\"F:\\\\Programming\\\\Python\\\\Artificial Intelligence\\\\Libraries\\\\Pandas\\\\Practice\\\\myFile0.csv\",header=3)\n",
    "csv_6"
   ]
  },
  {
   "cell_type": "markdown",
   "metadata": {},
   "source": [
    "#### Make new Header."
   ]
  },
  {
   "cell_type": "code",
   "execution_count": null,
   "metadata": {},
   "outputs": [
    {
     "data": {
      "text/html": [
       "<div>\n",
       "<style scoped>\n",
       "    .dataframe tbody tr th:only-of-type {\n",
       "        vertical-align: middle;\n",
       "    }\n",
       "\n",
       "    .dataframe tbody tr th {\n",
       "        vertical-align: top;\n",
       "    }\n",
       "\n",
       "    .dataframe thead th {\n",
       "        text-align: right;\n",
       "    }\n",
       "</style>\n",
       "<table border=\"1\" class=\"dataframe\">\n",
       "  <thead>\n",
       "    <tr style=\"text-align: right;\">\n",
       "      <th></th>\n",
       "      <th>Col</th>\n",
       "      <th>Col1</th>\n",
       "      <th>Col2</th>\n",
       "      <th>Col3</th>\n",
       "      <th>Col4</th>\n",
       "      <th>Col5</th>\n",
       "      <th>Col6</th>\n",
       "      <th>Col7</th>\n",
       "      <th>Col8</th>\n",
       "    </tr>\n",
       "  </thead>\n",
       "  <tbody>\n",
       "    <tr>\n",
       "      <th>0</th>\n",
       "      <td>id</td>\n",
       "      <td>firstname</td>\n",
       "      <td>lastname</td>\n",
       "      <td>email</td>\n",
       "      <td>email2</td>\n",
       "      <td>profession</td>\n",
       "      <td>Field Name</td>\n",
       "      <td>NaN</td>\n",
       "      <td>NaN</td>\n",
       "    </tr>\n",
       "    <tr>\n",
       "      <th>1</th>\n",
       "      <td>100</td>\n",
       "      <td>Sam</td>\n",
       "      <td>Karl</td>\n",
       "      <td>Sam.Karl@yopmail.com</td>\n",
       "      <td>Sam.Karl@gmail.com</td>\n",
       "      <td>firefighter</td>\n",
       "      <td>1</td>\n",
       "      <td>NaN</td>\n",
       "      <td>NaN</td>\n",
       "    </tr>\n",
       "    <tr>\n",
       "      <th>2</th>\n",
       "      <td>101</td>\n",
       "      <td>Caressa</td>\n",
       "      <td>Lea</td>\n",
       "      <td>Caressa.Lea@yopmail.com</td>\n",
       "      <td>Caressa.Lea@gmail.com</td>\n",
       "      <td>firefighter</td>\n",
       "      <td>2</td>\n",
       "      <td>NaN</td>\n",
       "      <td>NaN</td>\n",
       "    </tr>\n",
       "    <tr>\n",
       "      <th>3</th>\n",
       "      <td>102</td>\n",
       "      <td>Joeann</td>\n",
       "      <td>Rustice</td>\n",
       "      <td>Joeann.Rustice@yopmail.com</td>\n",
       "      <td>Joeann.Rustice@gmail.com</td>\n",
       "      <td>doctor</td>\n",
       "      <td>3</td>\n",
       "      <td>NaN</td>\n",
       "      <td>NaN</td>\n",
       "    </tr>\n",
       "    <tr>\n",
       "      <th>4</th>\n",
       "      <td>103</td>\n",
       "      <td>Brandise</td>\n",
       "      <td>Johanna</td>\n",
       "      <td>Brandise.Johanna@yopmail.com</td>\n",
       "      <td>Brandise.Johanna@gmail.com</td>\n",
       "      <td>firefighter</td>\n",
       "      <td>4</td>\n",
       "      <td>NaN</td>\n",
       "      <td>NaN</td>\n",
       "    </tr>\n",
       "    <tr>\n",
       "      <th>...</th>\n",
       "      <td>...</td>\n",
       "      <td>...</td>\n",
       "      <td>...</td>\n",
       "      <td>...</td>\n",
       "      <td>...</td>\n",
       "      <td>...</td>\n",
       "      <td>...</td>\n",
       "      <td>...</td>\n",
       "      <td>...</td>\n",
       "    </tr>\n",
       "    <tr>\n",
       "      <th>996</th>\n",
       "      <td>1095</td>\n",
       "      <td>Gavrielle</td>\n",
       "      <td>Cynar</td>\n",
       "      <td>Gavrielle.Cynar@yopmail.com</td>\n",
       "      <td>Gavrielle.Cynar@gmail.com</td>\n",
       "      <td>worker</td>\n",
       "      <td>996</td>\n",
       "      <td>NaN</td>\n",
       "      <td>NaN</td>\n",
       "    </tr>\n",
       "    <tr>\n",
       "      <th>997</th>\n",
       "      <td>1096</td>\n",
       "      <td>Abbie</td>\n",
       "      <td>Daveta</td>\n",
       "      <td>Abbie.Daveta@yopmail.com</td>\n",
       "      <td>Abbie.Daveta@gmail.com</td>\n",
       "      <td>police officer</td>\n",
       "      <td>997</td>\n",
       "      <td>NaN</td>\n",
       "      <td>NaN</td>\n",
       "    </tr>\n",
       "    <tr>\n",
       "      <th>998</th>\n",
       "      <td>1097</td>\n",
       "      <td>Heida</td>\n",
       "      <td>Bashemeth</td>\n",
       "      <td>Heida.Bashemeth@yopmail.com</td>\n",
       "      <td>Heida.Bashemeth@gmail.com</td>\n",
       "      <td>doctor</td>\n",
       "      <td>998</td>\n",
       "      <td>NaN</td>\n",
       "      <td>NaN</td>\n",
       "    </tr>\n",
       "    <tr>\n",
       "      <th>999</th>\n",
       "      <td>1098</td>\n",
       "      <td>Karly</td>\n",
       "      <td>Phi</td>\n",
       "      <td>Karly.Phi@yopmail.com</td>\n",
       "      <td>Karly.Phi@gmail.com</td>\n",
       "      <td>worker</td>\n",
       "      <td>999</td>\n",
       "      <td>NaN</td>\n",
       "      <td>NaN</td>\n",
       "    </tr>\n",
       "    <tr>\n",
       "      <th>1000</th>\n",
       "      <td>1099</td>\n",
       "      <td>Darlleen</td>\n",
       "      <td>Tamsky</td>\n",
       "      <td>Darlleen.Tamsky@yopmail.com</td>\n",
       "      <td>Darlleen.Tamsky@gmail.com</td>\n",
       "      <td>police officer</td>\n",
       "      <td>1000</td>\n",
       "      <td>NaN</td>\n",
       "      <td>NaN</td>\n",
       "    </tr>\n",
       "  </tbody>\n",
       "</table>\n",
       "<p>1001 rows × 9 columns</p>\n",
       "</div>"
      ],
      "text/plain": [
       "       Col       Col1       Col2                          Col3  \\\n",
       "0       id  firstname   lastname                         email   \n",
       "1      100        Sam       Karl          Sam.Karl@yopmail.com   \n",
       "2      101    Caressa        Lea       Caressa.Lea@yopmail.com   \n",
       "3      102     Joeann    Rustice    Joeann.Rustice@yopmail.com   \n",
       "4      103   Brandise    Johanna  Brandise.Johanna@yopmail.com   \n",
       "...    ...        ...        ...                           ...   \n",
       "996   1095  Gavrielle      Cynar   Gavrielle.Cynar@yopmail.com   \n",
       "997   1096      Abbie     Daveta      Abbie.Daveta@yopmail.com   \n",
       "998   1097      Heida  Bashemeth   Heida.Bashemeth@yopmail.com   \n",
       "999   1098      Karly        Phi         Karly.Phi@yopmail.com   \n",
       "1000  1099   Darlleen     Tamsky   Darlleen.Tamsky@yopmail.com   \n",
       "\n",
       "                            Col4            Col5        Col6  Col7  Col8  \n",
       "0                         email2      profession  Field Name   NaN   NaN  \n",
       "1             Sam.Karl@gmail.com     firefighter           1   NaN   NaN  \n",
       "2          Caressa.Lea@gmail.com     firefighter           2   NaN   NaN  \n",
       "3       Joeann.Rustice@gmail.com          doctor           3   NaN   NaN  \n",
       "4     Brandise.Johanna@gmail.com     firefighter           4   NaN   NaN  \n",
       "...                          ...             ...         ...   ...   ...  \n",
       "996    Gavrielle.Cynar@gmail.com          worker         996   NaN   NaN  \n",
       "997       Abbie.Daveta@gmail.com  police officer         997   NaN   NaN  \n",
       "998    Heida.Bashemeth@gmail.com          doctor         998   NaN   NaN  \n",
       "999          Karly.Phi@gmail.com          worker         999   NaN   NaN  \n",
       "1000   Darlleen.Tamsky@gmail.com  police officer        1000   NaN   NaN  \n",
       "\n",
       "[1001 rows x 9 columns]"
      ]
     },
     "execution_count": 32,
     "metadata": {},
     "output_type": "execute_result"
    }
   ],
   "source": [
    "csv_6 = pd.read_csv(\"F:\\\\Programming\\\\Python\\\\Artificial Intelligence\\\\Libraries\\\\Pandas\\\\Practice\\\\myFile0.csv\",names=[\"Col\",\"Col1\",\"Col2\",\"Col3\",\"Col4\",\"Col5\",\"Col6\",\"Col7\",\"Col8\"])\n",
    "csv_6"
   ]
  },
  {
   "cell_type": "markdown",
   "metadata": {},
   "source": [
    "#### Change DataType."
   ]
  },
  {
   "cell_type": "code",
   "execution_count": null,
   "metadata": {},
   "outputs": [
    {
     "name": "stdout",
     "output_type": "stream",
     "text": [
      "<class 'pandas.core.frame.DataFrame'>\n"
     ]
    }
   ],
   "source": [
    "csv_7 = pd.read_csv(\"F:\\\\Programming\\\\Python\\\\Artificial Intelligence\\\\Libraries\\\\Pandas\\\\Practice\\\\myFile0.csv\",dtype={\"id\":\"float\"})\n",
    "csv_7"
   ]
  },
  {
   "cell_type": "code",
   "execution_count": null,
   "metadata": {},
   "outputs": [],
   "source": []
  }
 ],
 "metadata": {
  "kernelspec": {
   "display_name": "Python 3.11.0 64-bit",
   "language": "python",
   "name": "python3"
  },
  "language_info": {
   "codemirror_mode": {
    "name": "ipython",
    "version": 3
   },
   "file_extension": ".py",
   "mimetype": "text/x-python",
   "name": "python",
   "nbconvert_exporter": "python",
   "pygments_lexer": "ipython3",
   "version": "3.11.0"
  },
  "orig_nbformat": 4,
  "vscode": {
   "interpreter": {
    "hash": "26cba7af910c0beef494bfe669ad27d24183c454fa754b66b7e66ac4b050b5e1"
   }
  }
 },
 "nbformat": 4,
 "nbformat_minor": 2
}
